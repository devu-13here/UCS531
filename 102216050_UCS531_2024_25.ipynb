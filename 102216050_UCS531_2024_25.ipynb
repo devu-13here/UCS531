{
  "nbformat": 4,
  "nbformat_minor": 0,
  "metadata": {
    "colab": {
      "provenance": [],
      "authorship_tag": "ABX9TyPMuHpABecNVfsCGrBZH+n1",
      "include_colab_link": true
    },
    "kernelspec": {
      "name": "python3",
      "display_name": "Python 3"
    },
    "language_info": {
      "name": "python"
    }
  },
  "cells": [
    {
      "cell_type": "markdown",
      "metadata": {
        "id": "view-in-github",
        "colab_type": "text"
      },
      "source": [
        "<a href=\"https://colab.research.google.com/github/devu-13here/UCS531/blob/main/102216050_UCS531_2024_25.ipynb\" target=\"_parent\"><img src=\"https://colab.research.google.com/assets/colab-badge.svg\" alt=\"Open In Colab\"/></a>"
      ]
    },
    {
      "cell_type": "code",
      "execution_count": 1,
      "metadata": {
        "id": "yudfA8bF_TYA",
        "colab": {
          "base_uri": "https://localhost:8080/"
        },
        "outputId": "92c62520-2f79-4449-e604-a97e4fc80b11"
      },
      "outputs": [
        {
          "output_type": "stream",
          "name": "stdout",
          "text": [
            "Data file 'random_data.txt' with 10000 rows and 10000 columns created successfully.\n"
          ]
        }
      ],
      "source": [
        "import random\n",
        "\n",
        "# Define the dimensions of the dataset\n",
        "num_rows = 10000\n",
        "num_cols = 10000\n",
        "\n",
        "# File to write the data\n",
        "file_name = \"random_data.txt\"\n",
        "\n",
        "# Open the file in write mode\n",
        "with open(file_name, 'w') as file:\n",
        "    for _ in range(num_rows):\n",
        "        # Generate a row of random numbers separated by spaces\n",
        "        row_data = ' '.join(str(random.random()) for _ in range(num_cols))\n",
        "\n",
        "        # Write the row to the file\n",
        "        file.write(row_data + '\\n')\n",
        "\n",
        "print(f\"Data file '{file_name}' with {num_rows} rows and {num_cols} columns created successfully.\")\n"
      ]
    },
    {
      "cell_type": "code",
      "source": [
        "# Define the dimensions of the matrix\n",
        "num_rows = 10000\n",
        "num_cols = 10000\n",
        "\n",
        "# Create the matrix with subsequent rows assigned to the first row elements\n",
        "matrix = [[i*num_cols + j for j in range(num_cols)] for i in range(num_rows)]\n",
        "\n",
        "# Assign subsequent rows to the first row elements\n",
        "for i in range(1, num_rows):\n",
        "    for j in range(num_cols):\n",
        "        matrix[i][j] = matrix[0][j]\n",
        "\n",
        "# Print the first few elements to show the result\n",
        "print(\"First row of the matrix after assigning subsequent rows to the first row elements:\")\n",
        "print(matrix[0][:10])  # Print the first 10 elements of the first row\n"
      ],
      "metadata": {
        "colab": {
          "base_uri": "https://localhost:8080/"
        },
        "id": "YYj_d7IlBgxA",
        "outputId": "01915747-25e5-4067-bfa9-b48c39baa431"
      },
      "execution_count": 2,
      "outputs": [
        {
          "output_type": "stream",
          "name": "stdout",
          "text": [
            "First row of the matrix after assigning subsequent rows to the first row elements:\n",
            "[0, 1, 2, 3, 4, 5, 6, 7, 8, 9]\n"
          ]
        }
      ]
    },
    {
      "cell_type": "code",
      "source": [
        "# Import the libraries\n",
        "import random\n",
        "\n",
        "# Define the dimensions of the matrix\n",
        "num_rows = 20\n",
        "num_cols = 20\n",
        "\n",
        "# Create the matrix with random values for demonstration\n",
        "matrix = [[random.randint(1, 5) for _ in range(num_cols)] for _ in range(num_rows)]\n",
        "\n",
        "# Displaying the original matrix\n",
        "print(\"Original matrix:\")\n",
        "for row in matrix:\n",
        "    print(row)\n",
        "\n",
        "# Defining a threshold for similarity\n",
        "threshold = 2\n",
        "\n",
        "# Group similar elements into clusters\n",
        "cluster_counter = 1\n",
        "clusters = {}  # Dictionary to store clusters\n",
        "\n",
        "for i in range(num_rows):\n",
        "    for j in range(num_cols):\n",
        "        element = matrix[i][j]\n",
        "        if element not in clusters:\n",
        "            clusters[element] = cluster_counter\n",
        "            cluster_counter += 1\n",
        "\n",
        "        # Check if nearby elements are similar\n",
        "        for dx in [-1, 0, 1]:\n",
        "            for dy in [-1, 0, 1]:\n",
        "                if 0 <= i+dx < num_rows and 0 <= j+dy < num_cols:\n",
        "                    if abs(matrix[i+dx][j+dy] - element) <= threshold:\n",
        "                        clusters[matrix[i+dx][j+dy]] = clusters[element]\n",
        "\n",
        "# Printing the clusters\n",
        "print(\"\\nClusters formed based on similarity:\")\n",
        "for i in range(num_rows):\n",
        "    for j in range(num_cols):\n",
        "        print(clusters[matrix[i][j]], end=' ')\n",
        "    print()\n"
      ],
      "metadata": {
        "colab": {
          "base_uri": "https://localhost:8080/"
        },
        "id": "gJMQlxxjDRMn",
        "outputId": "69c3f9c7-979a-46f2-b2c8-c99f57a0125b"
      },
      "execution_count": 3,
      "outputs": [
        {
          "output_type": "stream",
          "name": "stdout",
          "text": [
            "Original matrix:\n",
            "[1, 2, 5, 3, 3, 2, 4, 2, 4, 3, 4, 4, 2, 4, 3, 1, 4, 4, 3, 3]\n",
            "[4, 1, 3, 1, 3, 4, 1, 3, 5, 1, 1, 5, 5, 1, 2, 1, 2, 5, 1, 4]\n",
            "[3, 4, 1, 5, 2, 2, 2, 1, 4, 5, 3, 4, 4, 1, 3, 1, 3, 3, 2, 5]\n",
            "[5, 2, 1, 5, 2, 2, 2, 1, 4, 3, 2, 4, 4, 2, 2, 2, 5, 2, 5, 5]\n",
            "[5, 3, 1, 3, 2, 3, 3, 5, 5, 5, 2, 4, 4, 1, 2, 1, 4, 1, 5, 4]\n",
            "[1, 1, 3, 4, 5, 2, 2, 3, 5, 4, 1, 2, 4, 4, 4, 2, 5, 2, 5, 3]\n",
            "[2, 4, 2, 2, 5, 5, 2, 2, 5, 5, 4, 2, 2, 2, 4, 1, 4, 4, 3, 4]\n",
            "[3, 3, 5, 5, 1, 4, 2, 4, 3, 1, 3, 2, 5, 2, 2, 4, 5, 1, 3, 5]\n",
            "[2, 4, 1, 3, 1, 4, 5, 2, 2, 5, 2, 4, 2, 4, 4, 4, 4, 2, 2, 1]\n",
            "[2, 2, 3, 2, 2, 1, 4, 1, 3, 5, 5, 2, 3, 3, 5, 3, 2, 4, 1, 2]\n",
            "[4, 2, 3, 3, 2, 3, 1, 2, 1, 5, 4, 4, 4, 3, 1, 4, 3, 1, 5, 4]\n",
            "[4, 5, 3, 1, 4, 2, 3, 4, 5, 4, 1, 5, 5, 3, 4, 1, 1, 5, 4, 5]\n",
            "[3, 5, 4, 1, 4, 3, 2, 3, 4, 4, 5, 5, 2, 1, 3, 4, 1, 5, 4, 2]\n",
            "[2, 2, 3, 1, 2, 4, 1, 1, 5, 4, 3, 5, 2, 4, 5, 3, 1, 5, 2, 2]\n",
            "[2, 3, 1, 4, 5, 3, 2, 1, 2, 4, 2, 2, 4, 3, 4, 5, 1, 3, 1, 5]\n",
            "[5, 4, 5, 4, 3, 3, 3, 2, 5, 2, 3, 5, 3, 1, 5, 2, 5, 1, 4, 4]\n",
            "[3, 1, 4, 2, 4, 4, 2, 2, 5, 5, 2, 3, 1, 1, 1, 1, 1, 2, 1, 2]\n",
            "[3, 3, 1, 1, 2, 4, 5, 5, 1, 1, 1, 4, 3, 2, 4, 4, 5, 1, 2, 1]\n",
            "[5, 3, 2, 2, 4, 5, 5, 3, 1, 3, 1, 3, 3, 4, 3, 3, 5, 1, 3, 1]\n",
            "[3, 2, 1, 3, 1, 3, 4, 4, 2, 3, 1, 3, 2, 5, 5, 1, 4, 4, 4, 4]\n",
            "\n",
            "Clusters formed based on similarity:\n",
            "2 2 2 2 2 2 2 2 2 2 2 2 2 2 2 2 2 2 2 2 \n",
            "2 2 2 2 2 2 2 2 2 2 2 2 2 2 2 2 2 2 2 2 \n",
            "2 2 2 2 2 2 2 2 2 2 2 2 2 2 2 2 2 2 2 2 \n",
            "2 2 2 2 2 2 2 2 2 2 2 2 2 2 2 2 2 2 2 2 \n",
            "2 2 2 2 2 2 2 2 2 2 2 2 2 2 2 2 2 2 2 2 \n",
            "2 2 2 2 2 2 2 2 2 2 2 2 2 2 2 2 2 2 2 2 \n",
            "2 2 2 2 2 2 2 2 2 2 2 2 2 2 2 2 2 2 2 2 \n",
            "2 2 2 2 2 2 2 2 2 2 2 2 2 2 2 2 2 2 2 2 \n",
            "2 2 2 2 2 2 2 2 2 2 2 2 2 2 2 2 2 2 2 2 \n",
            "2 2 2 2 2 2 2 2 2 2 2 2 2 2 2 2 2 2 2 2 \n",
            "2 2 2 2 2 2 2 2 2 2 2 2 2 2 2 2 2 2 2 2 \n",
            "2 2 2 2 2 2 2 2 2 2 2 2 2 2 2 2 2 2 2 2 \n",
            "2 2 2 2 2 2 2 2 2 2 2 2 2 2 2 2 2 2 2 2 \n",
            "2 2 2 2 2 2 2 2 2 2 2 2 2 2 2 2 2 2 2 2 \n",
            "2 2 2 2 2 2 2 2 2 2 2 2 2 2 2 2 2 2 2 2 \n",
            "2 2 2 2 2 2 2 2 2 2 2 2 2 2 2 2 2 2 2 2 \n",
            "2 2 2 2 2 2 2 2 2 2 2 2 2 2 2 2 2 2 2 2 \n",
            "2 2 2 2 2 2 2 2 2 2 2 2 2 2 2 2 2 2 2 2 \n",
            "2 2 2 2 2 2 2 2 2 2 2 2 2 2 2 2 2 2 2 2 \n",
            "2 2 2 2 2 2 2 2 2 2 2 2 2 2 2 2 2 2 2 2 \n"
          ]
        }
      ]
    }
  ]
}